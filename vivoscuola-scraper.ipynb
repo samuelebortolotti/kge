{
 "cells": [
  {
   "cell_type": "code",
   "execution_count": 1,
   "metadata": {},
   "outputs": [],
   "source": [
    "from bs4 import BeautifulSoup\n",
    "import json\n",
    "import csv"
   ]
  },
  {
   "cell_type": "markdown",
   "metadata": {},
   "source": [
    "Parsing list of schools from infoscuola-database.json "
   ]
  },
  {
   "cell_type": "code",
   "execution_count": 28,
   "metadata": {},
   "outputs": [],
   "source": [
    "school_list = []\n",
    "\n",
    "with open(\"infoscuola-database.json\",\"r\") as f:\n",
    "    for school_info in file_data['data']:\n",
    "        # 0 = istitute name\n",
    "        # 1 = address\n",
    "        # 2 = school name\n",
    "        # 3 = municipality\n",
    "        # 4 = phone number\n",
    "        # 5 = maps (not used)\n",
    "\n",
    "        institute_name = school_info[0].split(\">\")\n",
    "        institute_name = institute_name[1][:-3]\n",
    "        school_list.append([institute_name,school_info[1][1:],\n",
    "                            school_info[2][1:],\n",
    "                            school_info[3][1:],\n",
    "                            school_info[4][1:]])\n",
    "\n",
    "with open(\"school_list.csv\",\"w\") as f:\n",
    "    write = csv.writer(f)\n",
    "    write.writerow(['InstituteName','SchoolAddress','SchoolName','Municipality',\"PhoneNumber\"])\n",
    "    write.writerows(school_list)"
   ]
  }
 ],
 "metadata": {
  "kernelspec": {
   "display_name": "Python 3.9.6 64-bit ('kge')",
   "language": "python",
   "name": "python3"
  },
  "language_info": {
   "codemirror_mode": {
    "name": "ipython",
    "version": 3
   },
   "file_extension": ".py",
   "mimetype": "text/x-python",
   "name": "python",
   "nbconvert_exporter": "python",
   "pygments_lexer": "ipython3",
   "version": "3.9.6"
  },
  "orig_nbformat": 4,
  "vscode": {
   "interpreter": {
    "hash": "10537ea51c3dc610b1a1b8668135cecc6661dce9d1e3cc4968c03d22fc8681e0"
   }
  }
 },
 "nbformat": 4,
 "nbformat_minor": 2
}
