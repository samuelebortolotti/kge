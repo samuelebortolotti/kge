{
 "cells": [
  {
   "cell_type": "code",
   "execution_count": 1,
   "metadata": {},
   "outputs": [],
   "source": [
    "import json\n",
    "import pandas as pd"
   ]
  },
  {
   "cell_type": "code",
   "execution_count": 2,
   "metadata": {},
   "outputs": [],
   "source": [
    "with open(\"data/person_en_final (2).json\",\"r\") as f:\n",
    "    data = json.load(f)\n",
    "    unitn_staff = data['value']['data']\n",
    "\n",
    "\n"
   ]
  },
  {
   "cell_type": "code",
   "execution_count": 3,
   "metadata": {},
   "outputs": [],
   "source": [
    "responsibles = [\n",
    " 'Collaborator',\n",
    " \"Rector's delegate for Environmental Sustainability\",\n",
    " \"Rector's Delegate for musical activities\",\n",
    " \"Rector's delegate for Development Cooperation\",\n",
    " \"Rector's delegate for Disability Support\",\n",
    " 'Vice-Rector for Organisational and Resource Planning',\n",
    " 'Head',\n",
    " \"Rector's delegate for IT Services and Technologies\",\n",
    " 'Staff',\n",
    " 'President',\n",
    " 'External staff',\n",
    " 'Vice-Rector for research',\n",
    " 'Deputy dean',\n",
    " 'Coordinator',\n",
    " \"Rector's delegate for Internships and Placements\",\n",
    " \"Rector's delegate for Legal Affairs\",\n",
    " 'Vice-Rector for the Development of International Relationships',\n",
    " 'Linguistic expert',\n",
    " 'Implementation of the Development Plan',\n",
    " 'Rector',\n",
    " \"Employees' representative for safety issues\",\n",
    " 'Director',\n",
    " \"Rector's delegate for Orientation to Graduate Education\",\n",
    " \"Rector's delegate for Science Communication and Orientation for High-School Students\",\n",
    " 'Anti-corruption Officer',\n",
    " 'Vice-Rector',\n",
    " \"Rector's delegate for Initiatives on Linguistic Minorities\",\n",
    " \"Rector's delegate for University Community Surveys and Analyses\",\n",
    " 'Chief digital transformation officer',\n",
    " \"Rector's delegate for Doctoral Programmes\",\n",
    " \"Rector's delegate for Vocational and Continuing Training\",\n",
    " 'Vice-Rector for Organizational Well-Being and Employee Relations',\n",
    " \"Rector's delegate for Student Services and Relations\",\n",
    " 'Vice-president',\n",
    " 'Vice-Rector for Equity and Diversity Policies',\n",
    " 'Data Protection Officer',\n",
    " \"Rector's delegate for Press and Communication\",\n",
    " \"Rector's delegate for Safety in the workplace\",\n",
    " \"Rector's delegate for Support to the Business Sector\",\n",
    " \"Rector's delegate for Academic and International Solidarity\",\n",
    " 'Rector’s delegate for the Research Ethics Committee',\n",
    " 'Deputy coordinator',\n",
    " 'Vice-Rector for Teaching and Learning',\n",
    " \"Rector's delegate for Open Access and Copyright Policies\",\n",
    " 'Research grant holder',\n",
    " \"Rector's delegate for Alumni\",\n",
    " \"Rector's delegate for Language Education\",\n",
    " 'Alternate member',\n",
    " 'Senior staff',\n",
    " 'Executive assistant to the Head of the Direction',\n",
    " \"Rector's delegate for the Collegio Bernardo Clesio\",\n",
    " 'Director General',\n",
    " \"Rector's delegate for the Animal Welfare Committee\"]\n",
    "\n",
    "professor_roles = [\n",
    " 'Teaching assistant',\n",
    " 'Research collaborator',\n",
    " 'Teaching fellow',\n",
    " 'Assistant professor',\n",
    " 'Emeritus professor',\n",
    " 'Visiting professor',\n",
    " 'Senior Professor',\n",
    " 'Adjunct professor',\n",
    " 'Associate professor',\n",
    " 'Full professor']"
   ]
  },
  {
   "cell_type": "code",
   "execution_count": 4,
   "metadata": {},
   "outputs": [],
   "source": [
    "persons_dic = {}\n",
    "dizionario_entry_posizioni = {\n",
    "    0:\"id\",\n",
    "    1:\"name\",\n",
    "    2:\"surname\",\n",
    "    3:\"role\",\n",
    "    4:\"phoneNumber\",\n",
    "}\n",
    "for person in unitn_staff:\n",
    "\n",
    "      #  {\n",
    "      #  \"name\": \"Moreno\",\n",
    "      #  \"surname\": \"Ferrarese\",\n",
    "      #  \"id\": \"3f561286a93650282713dc900e080f98\",\n",
    "      #  \"role\": \"Teaching assistant\",\n",
    "      #  \"departmentId\": \"STO0008621\",\n",
    "      #  \"phoneNumber\": \"\"\n",
    "      #},\n",
    "    if(person['id'] not in persons_dic):\n",
    "        entry = [person['id'],person['name'],person['surname'],person['role'],person['phoneNumber']]\n",
    "        persons_dic[person['id']] = entry\n",
    "    else:\n",
    "        for index,attribute in enumerate(persons_dic[person['id']]):\n",
    "            if attribute == \"\" and person[dizionario_entry_posizioni[index]] != \"\":\n",
    "                persons_dic[person['id']][index] = person[dizionario_entry_posizioni[index]]\n"
   ]
  },
  {
   "cell_type": "code",
   "execution_count": 5,
   "metadata": {},
   "outputs": [],
   "source": [
    "professors = []\n",
    "responsibles_people = []\n",
    "for key in persons_dic:\n",
    "    if(persons_dic[key][3] in professor_roles):\n",
    "        professors.append(persons_dic[key])\n",
    "    elif(persons_dic[key][3] in responsibles):\n",
    "        responsibles_people.append(persons_dic[key])\n",
    "\n",
    "\n",
    "import csv\n",
    "\n",
    "with open(\"data/unitn_responsibles.csv\",\"w\") as f:\n",
    "    writer = csv.writer(f)\n",
    "    writer.writerow([\"id\",\"name\",\"surname\",\"role\",\"phone_number\"])\n",
    "    writer.writerows(responsibles_people)\n",
    "\n",
    "with open(\"data/unitn_professors.csv\",\"w\") as f:\n",
    "    writer = csv.writer(f)\n",
    "    writer.writerow([\"id\",\"name\",\"surname\",\"role\",\"phone_number\"])\n",
    "    writer.writerows(professors)"
   ]
  },
  {
   "cell_type": "code",
   "execution_count": 6,
   "metadata": {},
   "outputs": [],
   "source": [
    "degrees_dic = {}\n",
    "with open(\"data/degree_program (2).json\",\"r\") as f:\n",
    "    data = json.load(f)\n",
    "    degrees = data['value']['data']\n",
    "\n",
    "for degree in degrees:\n",
    "    degrees_dic[degree['id']] = degree['name']"
   ]
  },
  {
   "cell_type": "code",
   "execution_count": 12,
   "metadata": {},
   "outputs": [],
   "source": [
    "study_courses_dic = {}\n",
    "\n",
    "prof_course = []\n",
    "\n",
    "with open(\"data/course (2).json\",\"r\") as f:\n",
    "    data = json.load(f)\n",
    "    courses = data['value']['data']\n",
    "\n",
    "for course in courses:\n",
    "    if(course['id'] not in study_courses_dic):\n",
    "        study_courses_dic[course['id']] =[course['id'],course[\"name\"],degrees_dic[course[\"degreeProgramId\"]]]\n",
    "    \n",
    "    if(course['professorId'] != \"\"):\n",
    "        prof_course.append([course['id'],course['professorId']])\n",
    "    if(course['assistantId'] != \"\"):\n",
    "        prof_course.append([course['id'],course['assistantId']])\n",
    "\n",
    "\n"
   ]
  },
  {
   "cell_type": "code",
   "execution_count": 13,
   "metadata": {},
   "outputs": [],
   "source": [
    "import csv\n",
    "\n",
    "with open(\"data/prof_course-values-aligned.csv\",\"w\") as f:\n",
    "    writer = csv.writer(f)\n",
    "    writer.writerow([\"id_course\",\"id_prof\"])\n",
    "    writer.writerows(prof_course)\n",
    "\n"
   ]
  },
  {
   "cell_type": "code",
   "execution_count": 14,
   "metadata": {},
   "outputs": [],
   "source": [
    "study_courses = []\n",
    "for key in study_courses_dic:\n",
    "    study_courses.append(study_courses_dic[key])\n",
    "\n",
    "import csv\n",
    "\n",
    "with open(\"data/unitn-courses-values-aligned.csv\",\"w\") as f:\n",
    "    writer = csv.writer(f)\n",
    "    writer.writerow([\"id_course\",\"articulation\",\"title\"])\n",
    "    writer.writerows(study_courses)"
   ]
  },
  {
   "cell_type": "code",
   "execution_count": 3,
   "metadata": {},
   "outputs": [],
   "source": [
    "with open(\"data/Person.json\",\"r\") as f:\n",
    "    data = json.load(f)\n",
    "    new_profs = data['value']['data']\n",
    "\n",
    "\n",
    "df = pd.read_csv(\"data/unitn_professors.csv\")\n",
    "\n",
    "def getProperty(id_to_search,profs,toget):\n",
    "    for prof in profs:\n",
    "        \n",
    "        if prof['id'] == id_to_search:\n",
    "            return prof[toget]\n",
    "\n",
    "df['cun'] = df.apply(lambda row: getProperty(row['id'],new_profs,\"cun\"),axis=1)\n",
    "df['ssd'] = df.apply(lambda row: getProperty(row['id'],new_profs,\"ssd\"),axis=1)\n",
    "\n",
    "df.to_csv(\"data/unitn_professors_with_infos.csv\")\n"
   ]
  }
 ],
 "metadata": {
  "kernelspec": {
   "display_name": "Python 3.9.6 64-bit ('kge')",
   "language": "python",
   "name": "python3"
  },
  "language_info": {
   "codemirror_mode": {
    "name": "ipython",
    "version": 3
   },
   "file_extension": ".py",
   "mimetype": "text/x-python",
   "name": "python",
   "nbconvert_exporter": "python",
   "pygments_lexer": "ipython3",
   "version": "3.9.6"
  },
  "orig_nbformat": 4,
  "vscode": {
   "interpreter": {
    "hash": "10537ea51c3dc610b1a1b8668135cecc6661dce9d1e3cc4968c03d22fc8681e0"
   }
  }
 },
 "nbformat": 4,
 "nbformat_minor": 2
}
