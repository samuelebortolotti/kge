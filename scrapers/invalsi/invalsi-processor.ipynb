{
 "cells": [
  {
   "cell_type": "code",
   "execution_count": 1,
   "metadata": {},
   "outputs": [],
   "source": [
    "import pandas as pd"
   ]
  },
  {
   "cell_type": "code",
   "execution_count": 9,
   "metadata": {},
   "outputs": [],
   "source": [
    "df = pd.read_csv(\"Report_comuni_plessi.xls - Report_comuni_plessi.csv\")\n",
    "communes = pd.read_csv(\"Trentino Commune List.csv\")\n",
    "\n",
    "communes = communes['comune-name'].to_list()\n",
    "communes = [x.upper() for x in communes]\n",
    "\n",
    "df = df[(df.Comune.isin(communes))]\n",
    "\n",
    "df['Materia'] = df['Materia'].replace({\"Italiano\":\"Italian\",\"Matematica\":\"Mathematics\"})\n",
    "\n",
    "\n",
    "df.to_csv(\"invalsi-scores-translated.csv\")"
   ]
  },
  {
   "cell_type": "markdown",
   "metadata": {},
   "source": [
    "Name"
   ]
  },
  {
   "cell_type": "code",
   "execution_count": 5,
   "metadata": {},
   "outputs": [],
   "source": [
    "invalsi_scores = pd.read_csv(\"invalsi-scores-translated.csv\")\n",
    "communes = pd.read_csv(\"Trentino Commune List.csv\")\n",
    "communes = communes['comune-name'].to_list()\n",
    "\n",
    "def to_lower(stringa, commune_list):\n",
    "    for comune in commune_list:\n",
    "        if(stringa.lower() == comune.lower()):\n",
    "            return comune\n",
    "\n",
    "invalsi_scores['Comune'] = invalsi_scores.apply(lambda row: to_lower(row['Comune'],communes), axis=1 )\n",
    "\n",
    "invalsi_scores.to_csv(\"invalsi-scores-values-aligned.csv\")\n"
   ]
  }
 ],
 "metadata": {
  "kernelspec": {
   "display_name": "Python 3.9.6 64-bit ('kge')",
   "language": "python",
   "name": "python3"
  },
  "language_info": {
   "codemirror_mode": {
    "name": "ipython",
    "version": 3
   },
   "file_extension": ".py",
   "mimetype": "text/x-python",
   "name": "python",
   "nbconvert_exporter": "python",
   "pygments_lexer": "ipython3",
   "version": "3.9.6"
  },
  "orig_nbformat": 4,
  "vscode": {
   "interpreter": {
    "hash": "10537ea51c3dc610b1a1b8668135cecc6661dce9d1e3cc4968c03d22fc8681e0"
   }
  }
 },
 "nbformat": 4,
 "nbformat_minor": 2
}
