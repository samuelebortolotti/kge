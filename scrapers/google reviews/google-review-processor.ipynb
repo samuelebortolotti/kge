{
 "cells": [
  {
   "cell_type": "code",
   "execution_count": 2,
   "metadata": {},
   "outputs": [],
   "source": [
    "import pandas as pd"
   ]
  },
  {
   "cell_type": "code",
   "execution_count": 7,
   "metadata": {},
   "outputs": [],
   "source": [
    "def cleanProperty(property):\n",
    "    property = property.replace('\"\"','\"')\n",
    "    property = property.upper()\n",
    "    return ' '.join(property.split())\n"
   ]
  },
  {
   "cell_type": "code",
   "execution_count": 8,
   "metadata": {},
   "outputs": [],
   "source": [
    "df = pd.read_csv(\"data/school_reviews.csv\")\n",
    "\n",
    "df['school_name'] = df.apply(lambda row: cleanProperty(row['school_name']),axis=1)\n",
    "\n",
    "df.to_csv(\"data/school_reviews-values-aligned.csv\")"
   ]
  },
  {
   "cell_type": "code",
   "execution_count": 9,
   "metadata": {},
   "outputs": [],
   "source": [
    "df = pd.read_csv(\"data/school_scores.csv\")\n",
    "\n",
    "df['school_name'] = df.apply(lambda row: cleanProperty(row['school_name']),axis=1)\n",
    "\n",
    "df.to_csv(\"data/school_scores-values-aligned.csv\")"
   ]
  }
 ],
 "metadata": {
  "kernelspec": {
   "display_name": "Python 3.9.6 64-bit ('kge')",
   "language": "python",
   "name": "python3"
  },
  "language_info": {
   "codemirror_mode": {
    "name": "ipython",
    "version": 3
   },
   "file_extension": ".py",
   "mimetype": "text/x-python",
   "name": "python",
   "nbconvert_exporter": "python",
   "pygments_lexer": "ipython3",
   "version": "3.9.6"
  },
  "orig_nbformat": 4,
  "vscode": {
   "interpreter": {
    "hash": "10537ea51c3dc610b1a1b8668135cecc6661dce9d1e3cc4968c03d22fc8681e0"
   }
  }
 },
 "nbformat": 4,
 "nbformat_minor": 2
}
