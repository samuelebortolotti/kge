{
 "cells": [
  {
   "cell_type": "code",
   "execution_count": 43,
   "metadata": {},
   "outputs": [],
   "source": [
    "import selenium\n",
    "from selenium import webdriver\n",
    "from selenium.webdriver.common.keys import Keys\n",
    "from selenium.webdriver.common.by import By\n",
    "from selenium.webdriver.support.ui import WebDriverWait\n",
    "\n",
    "from selenium.webdriver.chrome.service import Service\n",
    "from webdriver_manager.chrome import ChromeDriverManager\n",
    "\n",
    "from bs4 import BeautifulSoup"
   ]
  },
  {
   "cell_type": "code",
   "execution_count": 36,
   "metadata": {},
   "outputs": [],
   "source": [
    "driver = webdriver.Chrome(service=Service(ChromeDriverManager().install()))\n",
    "driver.get(\"https://www.google.com\")\n",
    "#sy4vM\n",
    "el = driver.find_element(By.CLASS_NAME, \"sy4vM\")\n",
    "el.click()"
   ]
  },
  {
   "cell_type": "code",
   "execution_count": 37,
   "metadata": {},
   "outputs": [],
   "source": [
    "search_box = driver.find_element(By.XPATH, \"//input[starts-with(@title, 'Cerca')]\")\n",
    "search_box.send_keys(\"Pizza da Albert\")\n",
    "search_box.send_keys(Keys.ENTER)\n",
    "\n",
    "driver.find_element(By.CLASS_NAME,\"qB0t4\").click()"
   ]
  },
  {
   "cell_type": "code",
   "execution_count": 48,
   "metadata": {},
   "outputs": [],
   "source": [
    "#RMCqNd\n",
    "\n",
    "#reviewSort\n",
    "scroll_list = driver.find_element(By.CLASS_NAME,\"review-dialog-list\")\n",
    "driver.execute_script(\n",
    "               'arguments[0].scrollTop = arguments[0].scrollHeight', \n",
    "                scroll_list\n",
    "               )\n",
    "\n",
    "html_to_parse = scroll_list.get_attribute(\"innerHTML\")\n"
   ]
  },
  {
   "cell_type": "code",
   "execution_count": 54,
   "metadata": {},
   "outputs": [],
   "source": [
    "#RMCqNd\n",
    "#contiene 1 div vuoto e 1 div con classe:\n",
    "\n",
    "##gws-localreviews__general-reviews-block\n",
    "# questa div contiene 10 recensioni\n",
    "soup = BeautifulSoup(html_to_parse,\"html.parser\")\n",
    "\n",
    "div_boxes = soup.find_all(\"div\",attrs={'class':\"RMCqNd\"})\n",
    "\n",
    "reviews = []\n",
    "for divs in div_boxes:\n",
    "    for div in divs:\n",
    "        reviews_container = soup.find_all(\"div\",attrs={'class':\"gws-localreviews__general-reviews-block\"})\n",
    "        for review in reviews_container:\n",
    "            reviews.append(review)\n"
   ]
  },
  {
   "cell_type": "code",
   "execution_count": 56,
   "metadata": {},
   "outputs": [
    {
     "data": {
      "text/plain": [
       "\"pizza davvero speciale. impasto leggero e voluminoso. la definirei una pizza gourmet. il locale è molto bello (anche se affaccia sulla strada) con tavoli grandi e spazi ampi. il menù è prevalentemente pizza, con poca scelta ma ben selezionata e soddisfacente. dal mio punto di vista, è garanzia di qualità. prezzo abbastanza alto ma è normale vista l'alta qualità delle materie prime. ottimopizza davvero speciale. impasto leggero e voluminoso. la definirei una pizza gourmet. il locale è molto bello (anche se affaccia sulla strada) con tavoli grandi e spazi ampi. il menù è prevalentemente pizza, con poca scelta ma ben …Altro\""
      ]
     },
     "execution_count": 56,
     "metadata": {},
     "output_type": "execute_result"
    }
   ],
   "source": [
    "reviews[0].find(\"div\",attrs={'class':'Jtu6Td'}).text"
   ]
  }
 ],
 "metadata": {
  "kernelspec": {
   "display_name": "Python 3.9.6 64-bit ('kge')",
   "language": "python",
   "name": "python3"
  },
  "language_info": {
   "codemirror_mode": {
    "name": "ipython",
    "version": 3
   },
   "file_extension": ".py",
   "mimetype": "text/x-python",
   "name": "python",
   "nbconvert_exporter": "python",
   "pygments_lexer": "ipython3",
   "version": "3.9.6"
  },
  "orig_nbformat": 4,
  "vscode": {
   "interpreter": {
    "hash": "10537ea51c3dc610b1a1b8668135cecc6661dce9d1e3cc4968c03d22fc8681e0"
   }
  }
 },
 "nbformat": 4,
 "nbformat_minor": 2
}
