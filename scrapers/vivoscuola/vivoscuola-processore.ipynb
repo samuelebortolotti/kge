{
 "cells": [
  {
   "cell_type": "code",
   "execution_count": 3,
   "metadata": {},
   "outputs": [],
   "source": [
    "import pandas as pd\n",
    "import numpy as np"
   ]
  },
  {
   "cell_type": "code",
   "execution_count": 5,
   "metadata": {},
   "outputs": [],
   "source": [
    "df = pd.read_csv(\"data/institutes_id_number_dropped_responsible_columns.csv\")\n",
    "df['tipo_instituto'].unique()\n",
    "\n",
    "dict_to_replace = {\"Istituzione scolastica e formativa\":\"Educational and training institution\",\n",
    "                \"Scuola dell'infanzia\":\"Kindergarten\",\n",
    "                \"Circolo di coordinamento pedagogico\":\"Pedagogical coordination circle\"}\n",
    "\n",
    "df['tipo_instituto'] = df['tipo_instituto'].replace(dict_to_replace)\n",
    "\n",
    "df.to_csv(\"data/institutes_id_number_dropped_responsible_columns-translated.csv\")\n"
   ]
  },
  {
   "cell_type": "code",
   "execution_count": 9,
   "metadata": {},
   "outputs": [],
   "source": [
    "df = pd.read_csv(\"data/school_list_cleaned_with_id_institute_number.csv\")\n",
    "\n",
    "types_to_replace = {\"Provinciale\":\"Provincial\",\n",
    "                \"Gestione autonoma\":\"Autonomous Manegement\",\n",
    "                \"Delega F.P.S.M.\":\"F.P.S.M. Delegation\",\n",
    "                \"Delega Co.E.S.I.\":\"Co.E.S.I. Delegation\"}\n",
    "\n",
    "df['school_type'] = df['school_type'].replace(types_to_replace)\n",
    "df.to_csv(\"data/school_list_cleaned_with_id_institute_number-translated.csv\")\n",
    "\n"
   ]
  },
  {
   "cell_type": "code",
   "execution_count": 12,
   "metadata": {},
   "outputs": [],
   "source": [
    "df = pd.read_csv(\"data/responsibles.csv\")\n",
    "\n",
    "roles_to_replace = {\"DIRIGENTE SCOLASTICO\":\"Principal\",\n",
    "                \"PRESIDENTE ENTE GESTORE\":\"President of Managing Body\",\n",
    "                \"DIRETTORE\":\"Director\",\n",
    "                \"COORDINATORE PEDAGOGICO\":\"Pedagogican Coordinator\"}\n",
    "\n",
    "df['titolo'] = df['titolo'].replace(roles_to_replace)\n",
    "\n",
    "\n",
    "df.to_csv(\"data/responsibles-translated.csv\")"
   ]
  },
  {
   "cell_type": "code",
   "execution_count": 17,
   "metadata": {},
   "outputs": [],
   "source": [
    "df = pd.read_csv(\"data/institute_droputs.csv\")\n",
    "\n",
    "stage_to_replace = {\"PRIMARIA\":\"Primary School\",\n",
    "                \"SECONDARIA DI PRIMO GRADO\":\"Middle School\",\n",
    "                \"SECONDARIA DI SECONDO GRADO\":\"Highschool\",\n",
    "                \"FORMAZIONE PROFESSIONALE\":\"Professional School\"}\n",
    "\n",
    "time_table_replace = {\"DIURNO\":\"Morning\",\"SERALE\":\"Evening\"}\n",
    "\n",
    "df['ord_scol_cap'] = df['ord_scol_cap'].replace(stage_to_replace)\n",
    "df['tipo_ora_id'] = df['tipo_ora_id'].replace(time_table_replace)\n",
    "\n",
    "df.to_csv(\"data/institute_droputs-translated.csv\")\n"
   ]
  },
  {
   "cell_type": "code",
   "execution_count": 22,
   "metadata": {},
   "outputs": [],
   "source": [
    "df = pd.read_csv(\"data/institute_ripetenti.csv\")\n",
    "df['ord_scol_cap'] = df['ord_scol_cap'].replace(stage_to_replace)\n",
    "df['tipo_ora_id'] = df['tipo_ora_id'].replace(time_table_replace)\n",
    "df.to_csv(\"data/institute_ripetenti-translated.csv\")"
   ]
  },
  {
   "cell_type": "code",
   "execution_count": 27,
   "metadata": {},
   "outputs": [],
   "source": [
    "df = pd.read_csv(\"data/institute_scrutini.csv\")\n",
    "\n",
    "\n",
    "stage_to_replace = {\"Primaria\":\"Primary School\",\n",
    "                \"Secondaria di primo grado\":\"Middle School\",\n",
    "                \"Secondaria di secondo grado\":\"Highschool\",\n",
    "                \"Formazione professionale\":\"Professional School\"}\n",
    "\n",
    "time_table_replace = {\"Diurno\":\"Morning\",\"Serale\":\"Evening\"}\n",
    "\n",
    "df['ord_scol'] = df['ord_scol'].replace(stage_to_replace)\n",
    "df['tipo_orario'] = df['tipo_orario'].replace(time_table_replace)\n",
    "df.to_csv(\"data/institute_scrutini-translated.csv\")"
   ]
  },
  {
   "cell_type": "markdown",
   "metadata": {},
   "source": [
    "TO upper dei nomi in dropouts "
   ]
  },
  {
   "cell_type": "code",
   "execution_count": 9,
   "metadata": {},
   "outputs": [],
   "source": [
    "df = pd.read_csv(\"data/institute_droputs-translated.csv\")\n",
    "\n",
    "def fixInstituteName(name):\n",
    "    name = name.replace('\\\"\\\"','\\\"')\n",
    "    return name.upper()\n",
    "\n",
    "highschool_replace = {\"Highschool\":\"High School\"}\n",
    "\n",
    "df['strutt_liv_1_cap'] = df.apply(lambda row: fixInstituteName(row['strutt_liv_1_cap']),axis=1)\n",
    "df['ord_scol_cap'] = df['ord_scol_cap'].replace(highschool_replace)\n",
    "df['anno_scol'] = df.apply(lambda row: row['anno_scol'].replace(\"/\",\"-\"),axis=1)\n",
    "\n",
    "\n",
    "\n",
    "\n",
    "df.to_csv(\"data/institute_droputs-values-aligned.csv\")"
   ]
  },
  {
   "cell_type": "code",
   "execution_count": 10,
   "metadata": {},
   "outputs": [],
   "source": [
    "df = pd.read_csv(\"data/institute_ripetenti-translated.csv\")\n",
    "\n",
    "df['strutt_liv_1_cap'] = df.apply(lambda row: fixInstituteName(row['strutt_liv_1_cap']),axis=1)\n",
    "df['ord_scol_cap'] = df['ord_scol_cap'].replace(highschool_replace)\n",
    "df['anno_scol'] = df.apply(lambda row: row['anno_scol'].replace(\"/\",\"-\"),axis=1)\n",
    "\n",
    "\n",
    "\n",
    "\n",
    "df.to_csv(\"data/institute_ripetenti-values-aligned.csv\")"
   ]
  },
  {
   "cell_type": "code",
   "execution_count": 17,
   "metadata": {},
   "outputs": [],
   "source": [
    "def fixAnnoScolastico(annoToFix):\n",
    "    annoToFix = annoToFix.split(\" \")[1]\n",
    "    return annoToFix.replace(\"/\",\"-\")\n",
    "\n",
    "df = pd.read_csv(\"data/institute_scrutini-translated.csv\")\n",
    "\n",
    "df['ord_scol'] = df['ord_scol'].replace(highschool_replace)\n",
    "df['etichetta'] = df.apply(lambda row: fixAnnoScolastico(row['etichetta']),axis=1)\n",
    "\n",
    "\n",
    "\n",
    "\n",
    "df.to_csv(\"data/institute_scrutini-values-aligned.csv\")"
   ]
  },
  {
   "cell_type": "code",
   "execution_count": 13,
   "metadata": {},
   "outputs": [],
   "source": [
    "\n",
    "def cleanProperty(property,isName = False):\n",
    "    if isName:\n",
    "        property = property.upper()\n",
    "    return ' '.join(property.split())\n",
    "\n",
    "def getCommune(address):\n",
    "    components = address.split(\" \")\n",
    "    i = len(components) - 1\n",
    "    found = False\n",
    "    while(i >= 0 and not found):\n",
    "        if(components[i].isdigit()):\n",
    "\n",
    "            found = True\n",
    "        else:\n",
    "            i = i -1\n",
    "    return \" \".join(components[i+1:])\n",
    "def removeCommune(address):\n",
    "\n",
    "    components = address.split(\" \")\n",
    "\n",
    "    i = len(components)-1\n",
    "    found = False\n",
    "    while(i >= 0 and not found):\n",
    "        if(components[i].isdigit()):\n",
    "            found = True\n",
    "        else:\n",
    "\n",
    "            i = i -1\n",
    "    return \" \".join(components[:i-1])\n",
    "\n",
    "\n",
    "def to_lower(stringa, commune_list):\n",
    "    for comune in commune_list:\n",
    "        if(stringa.lower() == comune.lower()):\n",
    "            return comune\n",
    "    print(stringa)\n",
    "    return stringa\n",
    "\n",
    "communes = pd.read_csv(\"../invalsi/Trentino Commune List.csv\")\n",
    "communes = communes['comune-name'].to_list()"
   ]
  },
  {
   "cell_type": "code",
   "execution_count": 86,
   "metadata": {},
   "outputs": [],
   "source": [
    "\n",
    "df = pd.read_csv(\"data/institutes_id_number_dropped_responsible_columns-translated.csv\")\n",
    "\n",
    "df['nome_istituto'] = df.apply(lambda row: cleanProperty(row['nome_istituto'],isName=True),axis=1)\n",
    "df['indirizzo'] = df.apply(lambda row: cleanProperty(row['indirizzo']),axis=1)\n",
    "df['municipality'] = df.apply(lambda row: getCommune(row['indirizzo']),axis=1)\n",
    "df['indirizzo'] = df.apply(lambda row: removeCommune(row['indirizzo']),axis=1)\n",
    "\n",
    "communes = pd.read_csv(\"../invalsi/Trentino Commune List.csv\")\n",
    "communes = communes['comune-name'].to_list()\n",
    "\n",
    "\n",
    "\n",
    "df['municipality'] = df.apply(lambda row: to_lower(row['municipality'],communes),axis=1)\n",
    "\n",
    "df.to_csv(\"data/institutes_id_number_dropped_responsible_columns-values_aligned.csv\")\n"
   ]
  },
  {
   "cell_type": "code",
   "execution_count": 4,
   "metadata": {},
   "outputs": [],
   "source": [
    "df = pd.read_csv(\"data/responsibles-translated.csv\")\n",
    "\n",
    "df['nome'] = df.apply(lambda row: row['nome'].capitalize(),axis=1)\n",
    "\n",
    "df['cognome'] = df.apply(lambda row: row['cognome'].capitalize(),axis=1)\n",
    "\n",
    "df.to_csv(\"data/responsibles-values-aligned.csv\")"
   ]
  },
  {
   "cell_type": "code",
   "execution_count": 7,
   "metadata": {},
   "outputs": [],
   "source": [
    "df = pd.read_csv(\"data/school_courses.csv\")\n",
    "\n",
    "df['school_id'] = df.apply(lambda row: \"\".join(str(row['school_id']).split()),axis=1)\n",
    "\n",
    "df.to_csv(\"data/school_courses-values-aligned.csv\")"
   ]
  },
  {
   "cell_type": "code",
   "execution_count": 16,
   "metadata": {},
   "outputs": [],
   "source": [
    "df = pd.read_csv(\"data/school_list_cleaned_with_id_institute_number-translated.csv\")\n",
    "\n",
    "df['school_name'] = df.apply(lambda row: cleanProperty(row['school_name'],isName=True),axis=1)\n",
    "df['address'] = df.apply(lambda row: cleanProperty(row['address']),axis=1)\n",
    "df['municipality'] = df.apply(lambda row: getCommune(row['address']),axis=1)\n",
    "df['address'] = df.apply(lambda row: removeCommune(row['address']),axis=1)\n",
    "\n",
    "df['municipality'] = df.apply(lambda row: to_lower(row['municipality'],communes),axis=1)\n",
    "\n",
    "df.to_csv(\"data/school_list_cleaned_with_id_institute_number-values-aligned.csv\")"
   ]
  },
  {
   "cell_type": "markdown",
   "metadata": {},
   "source": [
    "URI"
   ]
  },
  {
   "cell_type": "code",
   "execution_count": 7,
   "metadata": {},
   "outputs": [],
   "source": [
    "df = pd.read_csv(\"data/institutes_id_number_dropped_responsible_columns-values_aligned.csv\")\n",
    "df['uri'] = np.where(pd.isna(df['miur_code']), df['nome_istituto'], df['miur_code'])\n",
    "\n",
    "hash_map_uri = {}\n",
    "for index,row in df.iterrows():\n",
    "    hash_map_uri[row['id_number']] = row['uri']"
   ]
  },
  {
   "cell_type": "code",
   "execution_count": 16,
   "metadata": {},
   "outputs": [],
   "source": [
    "schools = pd.read_csv(\"data/school_list_cleaned_with_id_institute_number-values-aligned.csv\")\n",
    "schools['institute_uri'] = schools.apply(lambda row: hash_map_uri[row['institute_id_number']],axis=1)"
   ]
  },
  {
   "cell_type": "code",
   "execution_count": 13,
   "metadata": {},
   "outputs": [],
   "source": [
    "responsibles = pd.read_csv(\"data/responsibles-values-aligned.csv\")\n",
    "responsibles['institute_uri'] = responsibles.apply(lambda row: hash_map_uri[row['id_istituto']],axis=1)"
   ]
  },
  {
   "cell_type": "code",
   "execution_count": 18,
   "metadata": {},
   "outputs": [],
   "source": [
    "def getStageFromSchoolName(name):\n",
    "    if(\"INFANZIA\" in name or \"ASILO\" in name):\n",
    "        return \"Kindergarten\"\n",
    "    if(\"PRIMARIA\" in name):\n",
    "        return \"Primary School\"\n",
    "    if(\"EDUCAZIONE PER ADULTI RELATIVA AL PRIMO CICLO\" in name or \"SECONDARIA DI PRIMO\" in name or \"SECONDARIA I GRADO\" in name):\n",
    "        return \"Middle School\"\n",
    "    if(\"LICEO\" in name or \"ISTITUTO TECNICO\" in name):\n",
    "        return \"High School\"\n",
    "    if(\"SETTORE\" in name or \"PROFESSIONALE\" in name):\n",
    "        return \"Professional School\"\n",
    "\n",
    "\n",
    "schools['stage'] = schools.apply(lambda row: getStageFromSchoolName(row['school_name']),axis = 1)"
   ]
  },
  {
   "cell_type": "code",
   "execution_count": 38,
   "metadata": {},
   "outputs": [],
   "source": [
    "dropouts = pd.read_csv(\"data/institute_droputs-values-aligned.csv\")\n",
    "\n",
    "new_dropouts = []\n",
    "\n",
    "for index,row in dropouts.iterrows():\n",
    "    filtered_schools = schools.loc[(schools['institute_uri'] == row['miur_code']) & (schools['stage'] == row['ord_scol_cap'])]\n",
    "    for index,school in filtered_schools.iterrows():\n",
    "        for i in range(5):\n",
    "            new_dropouts.append([row[\"data_inserimento\"],row[\"ord_scol_cap\"]\n",
    "        ,row[\"ord_scol_ord\"],row[\"strutt_liv_1_cap\"],row[\"strutt_liv_1_cod_miur\"],row[\"strutt_liv_1_cod_pat\"],\n",
    "        row[\"tipo_ora_id\"],row[\"valore\"],row[\"valore_d\"],row[\"valore_n\"],row[\"anno_scol\"],row[\"miur_code\"],i+1,school['school_id']])"
   ]
  },
  {
   "cell_type": "code",
   "execution_count": 40,
   "metadata": {},
   "outputs": [],
   "source": [
    "ripetenti = pd.read_csv(\"data/institute_ripetenti-values-aligned.csv\")\n",
    "\n",
    "new_ripetenti = []\n",
    "\n",
    "for index,row in ripetenti.iterrows():\n",
    "    if(row['tipo_ora_id'] == \"Evening\"):\n",
    "        \n",
    "        filtered_schools = schools.loc[(schools['institute_uri'] == row['miur_code']) & (schools['stage'] == row['ord_scol_cap']) & ((schools['school_name'].str.contains('SERALE') | schools['school_name'].str.contains(\"EDUCAZIONE PER ADULTI\")) )]\n",
    "    else:\n",
    "        filtered_schools = schools.loc[(schools['institute_uri'] == row['miur_code']) & (schools['stage'] == row['ord_scol_cap']) & (schools['school_name'].str.contains('SERALE')==False)]\n",
    "    for index,school in filtered_schools.iterrows():\n",
    "        new_ripetenti.append([row[\"data_inserimento\"],row[\"ord_scol_cap\"]\n",
    "        ,row[\"ord_scol_ord\"],row[\"strutt_liv_1_cap\"],row[\"strutt_liv_1_cod_miur\"],row[\"strutt_liv_1_cod_pat\"],\n",
    "        row[\"tipo_ora_id\"],row[\"valore\"],row[\"valore_d\"],row[\"valore_n\"],row[\"anno_scol\"],row['anno_corso'],row[\"miur_code\"],school['school_id']])"
   ]
  },
  {
   "cell_type": "code",
   "execution_count": 37,
   "metadata": {},
   "outputs": [],
   "source": [
    "scrutini = pd.read_csv(\"data/institute_scrutini-values-aligned.csv\")\n",
    "\n",
    "new_scrutini = []\n",
    "scrutini = scrutini.loc[(scrutini['etichetta'] == \"2021-22\")]\n",
    "for index,row in scrutini.iterrows():\n",
    "    if(row['tipo_orario'] == \"Evening\"):\n",
    "        \n",
    "        filtered_schools = schools.loc[(schools['institute_uri'] == row['miur_code']) & (schools['stage'] == row['ord_scol']) &  ((schools['school_name'].str.contains('SERALE') | schools['school_name'].str.contains(\"EDUCAZIONE PER ADULTI\")))]\n",
    "    else:\n",
    "        filtered_schools = schools.loc[(schools['institute_uri'] == row['miur_code']) & (schools['stage'] == row['ord_scol']) & (schools['school_name'].str.contains('SERALE')==False)]\n",
    "    for index,school in filtered_schools.iterrows():\n",
    "        new_scrutini.append([row[\"ord_scol\"],row[\"tipo_orario\"],row[\"num_anni\"],row[\"etichetta\"],row[\"percentuale_ammessi\"],row[\"anno\"],row[\"miur_code\"],school['school_id']])"
   ]
  },
  {
   "cell_type": "markdown",
   "metadata": {},
   "source": [
    "unione education quality - invalsi"
   ]
  },
  {
   "cell_type": "code",
   "execution_count": 46,
   "metadata": {},
   "outputs": [],
   "source": [
    "scores = pd.read_csv(\"../google reviews/data/school_scores-values-aligned.csv\")\n",
    "\n",
    "hash_map_scores_uri = {}\n",
    "\n",
    "uri_score = []\n",
    "index = 0\n",
    "for _,score in scores.iterrows():\n",
    "    if(score[\"school_id\"] not in hash_map_scores_uri):\n",
    "        hash_map_scores_uri[score[\"school_id\"]] = index\n",
    "        uri_score.append(index)\n",
    "        index+=1\n",
    "    else:\n",
    "        uri_score.append(hash_map_scores_uri[score[\"school_id\"]])\n",
    "\n",
    "scores['uri'] = uri_score\n"
   ]
  },
  {
   "cell_type": "code",
   "execution_count": 56,
   "metadata": {},
   "outputs": [],
   "source": [
    "invalsi = pd.read_csv(\"../invalsi/invalsi-scores-values-aligned.csv\")\n",
    "\n",
    "invalsi = invalsi.loc[(invalsi['Anno'] == \"2017-18\") & (invalsi['Grado'] != 2) & (invalsi['Grado'] != 13)]\n",
    "\n",
    "#5: V primaria. 8: III secondaria di I grado. 10: II secondaria di II grado. 13: V secondaria di II grado.\n",
    "\n",
    "ord_number_to_stage = {\n",
    "    5:\"Primary School\",\n",
    "    8:\"Middle School\",\n",
    "    10:\"High School\"\n",
    "}\n",
    "\n",
    "new_invalsi = []\n",
    "for _,row in invalsi.iterrows():\n",
    "    filtered_schools = schools.loc[(schools['municipalityISTITUTO'] == row['Comune']) & (schools['stage'] == ord_number_to_stage[row['Grado']])]\n",
    "    for index,school in filtered_schools.iterrows():\n",
    "        if(school[\"school_id\"] in hash_map_scores_uri):\n",
    "            new_invalsi.append([row[\"id_comune\"],row[\"Comune\"],row[\"Grado\"],row[\"Materia\"],row[\"Anno\"],row[\"Punteggio_percentuale_medio\"],row[\"Dev_Std_Punteggio_Percentuale\"],row[\"Punteggio_wle_medio\"],row[\"Dev_Std_Punteggio_wle\"],row[\"perc_copertura_stu\"],hash_map_scores_uri[school['school_id']]])"
   ]
  }
 ],
 "metadata": {
  "kernelspec": {
   "display_name": "Python 3.9.6 64-bit ('kge')",
   "language": "python",
   "name": "python3"
  },
  "language_info": {
   "codemirror_mode": {
    "name": "ipython",
    "version": 3
   },
   "file_extension": ".py",
   "mimetype": "text/x-python",
   "name": "python",
   "nbconvert_exporter": "python",
   "pygments_lexer": "ipython3",
   "version": "3.9.6"
  },
  "orig_nbformat": 4,
  "vscode": {
   "interpreter": {
    "hash": "10537ea51c3dc610b1a1b8668135cecc6661dce9d1e3cc4968c03d22fc8681e0"
   }
  }
 },
 "nbformat": 4,
 "nbformat_minor": 2
}
