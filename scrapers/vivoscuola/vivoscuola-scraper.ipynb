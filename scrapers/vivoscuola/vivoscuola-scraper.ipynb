{
 "cells": [
  {
   "cell_type": "code",
   "execution_count": 57,
   "metadata": {},
   "outputs": [],
   "source": [
    "from bs4 import BeautifulSoup\n",
    "import json\n",
    "import csv\n",
    "import requests\n",
    "import random"
   ]
  },
  {
   "cell_type": "markdown",
   "metadata": {},
   "source": [
    "Getting the institue links, we need those to scrape info about schools."
   ]
  },
  {
   "cell_type": "code",
   "execution_count": 47,
   "metadata": {},
   "outputs": [],
   "source": [
    "institute_link = []\n",
    "link_ids = {}\n",
    "\n",
    "with open(\"infoscuola-database.json\",\"r\") as f:\n",
    "    for school_info in file_data['data']:\n",
    "\n",
    "        institute_name = school_info[0].split('\"')\n",
    "        link_info = institute_name[1].split(\"/\")\n",
    "        id_link = link_info[-1]\n",
    "        \n",
    "        if(id_link not in link_ids):\n",
    "            institute_link.append(institute_name[1])\n",
    "            link_ids[id_link] = True\n",
    "        "
   ]
  },
  {
   "cell_type": "markdown",
   "metadata": {},
   "source": [
    "Getting school links"
   ]
  },
  {
   "cell_type": "code",
   "execution_count": 58,
   "metadata": {},
   "outputs": [],
   "source": [
    "# id to look for in the HTML: table-unita-scolastiche\n",
    "schools_link = []\n",
    "\n",
    "for link in institute_link:\n",
    "    response = requests.get(link)\n",
    "    soup = BeautifulSoup(response.content,\"html.parser\")\n",
    "    table = soup.find(\"table\",attrs={'id':'table-unita-scolastiche'})\n",
    "    tbody = table.find(\"tbody\")\n",
    "    a_tags = tbody.findAll([\"a\"],href=True)\n",
    "\n",
    "    for a_tag in a_tags:\n",
    "        schools_link.append(\"https://www.vivoscuola.it\"+a_tag['href'])\n",
    "    random.uniform(0.9,1.2)\n",
    "    "
   ]
  },
  {
   "cell_type": "code",
   "execution_count": 59,
   "metadata": {},
   "outputs": [],
   "source": [
    "with open('schoo_links.txt', 'w') as f:\n",
    "    for line in schools_link:\n",
    "        f.write(f\"{line}\\n\")\n"
   ]
  }
 ],
 "metadata": {
  "kernelspec": {
   "display_name": "Python 3.9.6 64-bit ('kge')",
   "language": "python",
   "name": "python3"
  },
  "language_info": {
   "codemirror_mode": {
    "name": "ipython",
    "version": 3
   },
   "file_extension": ".py",
   "mimetype": "text/x-python",
   "name": "python",
   "nbconvert_exporter": "python",
   "pygments_lexer": "ipython3",
   "version": "3.9.6"
  },
  "orig_nbformat": 4,
  "vscode": {
   "interpreter": {
    "hash": "10537ea51c3dc610b1a1b8668135cecc6661dce9d1e3cc4968c03d22fc8681e0"
   }
  }
 },
 "nbformat": 4,
 "nbformat_minor": 2
}
